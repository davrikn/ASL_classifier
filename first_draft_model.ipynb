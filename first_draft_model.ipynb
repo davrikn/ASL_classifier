{
 "cells": [
  {
   "cell_type": "code",
   "execution_count": 132,
   "metadata": {},
   "outputs": [],
   "source": [
    "import torch\n",
    "import numpy as np\n",
    "import torch.nn as nn\n",
    "import matplotlib.pyplot as plt\n",
    "from torch.utils.data import DataLoader, random_split\n",
    "import torch.nn.functional as F\n",
    "from torchvision.transforms import transforms\n",
    "\n",
    "from imagedataset import ImageDataset"
   ]
  },
  {
   "cell_type": "code",
   "execution_count": 133,
   "metadata": {},
   "outputs": [],
   "source": [
    "device = torch.device(\"cuda\" if torch.cuda.is_available() else \"cpu\")"
   ]
  },
  {
   "attachments": {},
   "cell_type": "markdown",
   "metadata": {},
   "source": [
    "### Hyperparameters"
   ]
  },
  {
   "cell_type": "code",
   "execution_count": 134,
   "metadata": {},
   "outputs": [],
   "source": [
    "num_epochs = 2\n",
    "batch_size = 10\n",
    "learning_rate = 0.001"
   ]
  },
  {
   "attachments": {},
   "cell_type": "markdown",
   "metadata": {},
   "source": [
    "### Data"
   ]
  },
  {
   "cell_type": "code",
   "execution_count": 135,
   "metadata": {},
   "outputs": [],
   "source": [
    "norm_transform = transforms.Normalize(\n",
    "    (132.3501, 127.2977, 131.0638),\n",
    "    (55.5031, 62.3274, 64.1869)\n",
    ")"
   ]
  },
  {
   "cell_type": "code",
   "execution_count": 136,
   "metadata": {},
   "outputs": [],
   "source": [
    "dataset = ImageDataset()\n",
    "train_size = int(0.75*len(dataset))\n",
    "test_size  = len(dataset) - train_size\n",
    "train, test = random_split(dataset, [train_size, test_size])\n",
    "\n",
    "train_loader = DataLoader(train, batch_size=batch_size, shuffle=True)\n",
    "test_loader  = DataLoader(test, batch_size=batch_size, shuffle=False)"
   ]
  },
  {
   "attachments": {},
   "cell_type": "markdown",
   "metadata": {},
   "source": [
    "### Model, loss & optimizer"
   ]
  },
  {
   "cell_type": "code",
   "execution_count": 137,
   "metadata": {},
   "outputs": [],
   "source": [
    "class ConvNet(nn.Module):\n",
    "    \n",
    "    def __init__(self):\n",
    "        super(ConvNet, self).__init__()\n",
    "        self.conv1 = nn.Conv2d(3, 6, 5)   # 6 channels out, kernel size 7\n",
    "        self.pool = nn.MaxPool2d(2, 2)    # 2x2 maxpool (strife). Image now has shape 49x49\n",
    "        self.conv2 = nn.Conv2d(6, 16, 5)  # 6 channel input, 16 channel output. Image now has dimension 47x47\n",
    "        self.fc1 = nn.Linear(16*47*47, 120)\n",
    "        self.fc2 = nn.Linear(120, 84)\n",
    "        self.fc3 = nn.Linear(84, 29)\n",
    "\n",
    "    def forward(self, x):\n",
    "        x = self.pool(F.relu(self.conv1(x)))\n",
    "        x = self.pool(F.relu(self.conv2(x)))\n",
    "        x = x.flatten(start_dim=1)\n",
    "        x = F.relu(self.fc1(x))\n",
    "        x = F.relu(self.fc2(x))\n",
    "        x = self.fc3(x)\n",
    "        return x"
   ]
  },
  {
   "cell_type": "code",
   "execution_count": 138,
   "metadata": {},
   "outputs": [],
   "source": [
    "model = ConvNet().to(device)\n",
    "criterion = nn.CrossEntropyLoss() # Includes softmax\n",
    "optimizer = torch.optim.SGD(model.parameters(), lr=learning_rate)"
   ]
  },
  {
   "attachments": {},
   "cell_type": "markdown",
   "metadata": {},
   "source": [
    "### Training loop"
   ]
  },
  {
   "cell_type": "code",
   "execution_count": 139,
   "metadata": {},
   "outputs": [
    {
     "name": "stdout",
     "output_type": "stream",
     "text": [
      "Epoch [1/2], Step [500/6525], Loss: 3.2292\n",
      "Epoch [1/2], Step [1000/6525], Loss: 2.3761\n",
      "Epoch [1/2], Step [1500/6525], Loss: 1.3450\n",
      "Epoch [1/2], Step [2000/6525], Loss: 1.7545\n",
      "Epoch [1/2], Step [2500/6525], Loss: 1.0182\n",
      "Epoch [1/2], Step [3000/6525], Loss: 0.6244\n",
      "Epoch [1/2], Step [3500/6525], Loss: 1.1810\n",
      "Epoch [1/2], Step [4000/6525], Loss: 0.2530\n",
      "Epoch [1/2], Step [4500/6525], Loss: 0.1402\n",
      "Epoch [1/2], Step [5000/6525], Loss: 0.3356\n",
      "Epoch [1/2], Step [5500/6525], Loss: 0.4092\n",
      "Epoch [1/2], Step [6000/6525], Loss: 0.0599\n",
      "Epoch [1/2], Step [6500/6525], Loss: 0.2314\n",
      "Epoch [2/2], Step [500/6525], Loss: 0.1658\n",
      "Epoch [2/2], Step [1000/6525], Loss: 0.1907\n",
      "Epoch [2/2], Step [1500/6525], Loss: 0.3785\n",
      "Epoch [2/2], Step [2000/6525], Loss: 0.0709\n",
      "Epoch [2/2], Step [2500/6525], Loss: 0.2045\n",
      "Epoch [2/2], Step [3000/6525], Loss: 0.2174\n",
      "Epoch [2/2], Step [3500/6525], Loss: 0.0769\n",
      "Epoch [2/2], Step [4000/6525], Loss: 0.1110\n",
      "Epoch [2/2], Step [4500/6525], Loss: 0.1976\n",
      "Epoch [2/2], Step [5000/6525], Loss: 0.0180\n",
      "Epoch [2/2], Step [5500/6525], Loss: 0.0308\n",
      "Epoch [2/2], Step [6000/6525], Loss: 0.0372\n",
      "Epoch [2/2], Step [6500/6525], Loss: 0.2487\n"
     ]
    }
   ],
   "source": [
    "n_total_steps = len(train_loader)\n",
    "for epoch in range(num_epochs):\n",
    "    for i, (images, labels) in enumerate(train_loader):\n",
    "        images = images.float().to(device)\n",
    "        labels = labels.to(device)\n",
    "\n",
    "        # Forward\n",
    "        outputs = model(images)\n",
    "        loss = criterion(outputs, labels)\n",
    "\n",
    "        # Backward:\n",
    "        optimizer.zero_grad()\n",
    "        loss.backward()\n",
    "        optimizer.step()\n",
    "\n",
    "        if (i+1) % 500 == 0:\n",
    "            print(f\"Epoch [{epoch+1}/{num_epochs}], Step [{i+1}/{n_total_steps}], Loss: {loss.item():.4f}\")"
   ]
  },
  {
   "attachments": {},
   "cell_type": "markdown",
   "metadata": {},
   "source": [
    "### Validation"
   ]
  },
  {
   "cell_type": "code",
   "execution_count": 1,
   "metadata": {},
   "outputs": [
    {
     "ename": "NameError",
     "evalue": "name 'torch' is not defined",
     "output_type": "error",
     "traceback": [
      "\u001b[1;31m---------------------------------------------------------------------------\u001b[0m",
      "\u001b[1;31mNameError\u001b[0m                                 Traceback (most recent call last)",
      "Cell \u001b[1;32mIn[1], line 1\u001b[0m\n\u001b[1;32m----> 1\u001b[0m \u001b[39mwith\u001b[39;00m torch\u001b[39m.\u001b[39mno_grad(): \n\u001b[0;32m      3\u001b[0m     labs \u001b[39m=\u001b[39m np\u001b[39m.\u001b[39mempty(\u001b[39m0\u001b[39m, dtype\u001b[39m=\u001b[39m\u001b[39mobject\u001b[39m) \u001b[39m# List for all labels and predictions in test set\u001b[39;00m\n\u001b[0;32m      4\u001b[0m     pred \u001b[39m=\u001b[39m np\u001b[39m.\u001b[39mempty(\u001b[39m0\u001b[39m, dtype\u001b[39m=\u001b[39m\u001b[39mobject\u001b[39m)\n",
      "\u001b[1;31mNameError\u001b[0m: name 'torch' is not defined"
     ]
    }
   ],
   "source": [
    "with torch.no_grad(): \n",
    "\n",
    "    labs = np.empty(0, dtype=object) # List for all labels and predictions in test set\n",
    "    pred = np.empty(0, dtype=object)\n",
    "    for (images, labels) in test_loader:\n",
    "        images = images.float().to(device)\n",
    "        labels = labels.to(device)\n",
    "\n",
    "        outputs = model(images)\n",
    "        _, predicted = torch.max(outputs, 1)     # Retrieving index of maximum output\n",
    "        labs = np.append(labs, np.array(labels))\n",
    "        pred = np.append(pred, np.array(predicted))"
   ]
  },
  {
   "cell_type": "code",
   "execution_count": 186,
   "metadata": {},
   "outputs": [
    {
     "name": "stdout",
     "output_type": "stream",
     "text": [
      "Accuracy: 0.963\n"
     ]
    }
   ],
   "source": [
    "# Total accuracy\n",
    "accuracy = np.round((labs == pred).mean(), 3)\n",
    "\n",
    "# In-class accuracy:\n",
    "num_classes = 29\n",
    "class_accuracy = np.zeros(num_classes)\n",
    "for i in range(num_classes):\n",
    "    class_ind = (labs == i) # Indices of class i in labs and pred\n",
    "    class_accuracy[i] = np.mean(labs[class_ind] == pred[class_ind])\n",
    "\n",
    "print(f\"Accuracy: {accuracy}\")"
   ]
  },
  {
   "cell_type": "code",
   "execution_count": 194,
   "metadata": {},
   "outputs": [
    {
     "name": "stderr",
     "output_type": "stream",
     "text": [
      "C:\\Users\\oleri\\AppData\\Local\\Temp\\ipykernel_18576\\805789163.py:1: MatplotlibDeprecationWarning: The seaborn styles shipped by Matplotlib are deprecated since 3.6, as they no longer correspond to the styles shipped by seaborn. However, they will remain available as 'seaborn-v0_8-<style>'. Alternatively, directly use the seaborn API instead.\n",
      "  plt.style.use(\"seaborn\");\n"
     ]
    },
    {
     "data": {
      "text/plain": [
       "<matplotlib.legend.Legend at 0x2b50bd47880>"
      ]
     },
     "execution_count": 194,
     "metadata": {},
     "output_type": "execute_result"
    },
    {
     "data": {
      "image/png": "[encoded data removed]",
      "text/plain": [
       "<Figure size 800x550 with 1 Axes>"
      ]
     },
     "metadata": {},
     "output_type": "display_data"
    }
   ],
   "source": [
    "plt.style.use(\"seaborn\");\n",
    "plt.ylim([0.75, 1])\n",
    "plt.bar(range(num_classes), class_accuracy, label=\"Class prediction accuracy\")\n",
    "plt.hlines(accuracy, 0, num_classes, colors=\"red\", linestyles=\"--\", label=\"Average (total) accuracy\")\n",
    "plt.xlabel(\"Class\")\n",
    "plt.ylabel(\"Accuracy\")\n",
    "plt.legend()"
   ]
  }
 ],
 "metadata": {
  "kernelspec": {
   "display_name": "ML-env",
   "language": "python",
   "name": "python3"
  },
  "language_info": {
   "codemirror_mode": {
    "name": "ipython",
    "version": 3
   },
   "file_extension": ".py",
   "mimetype": "text/x-python",
   "name": "python",
   "nbconvert_exporter": "python",
   "pygments_lexer": "ipython3",
   "version": "3.10.9"
  },
  "orig_nbformat": 4,
  "vscode": {
   "interpreter": {
    "hash": "8c079673354916119d409bcaac7691efc7682d3231fae5b9ae22ac36ebe64032"
   }
  }
 },
 "nbformat": 4,
 "nbformat_minor": 2
}
