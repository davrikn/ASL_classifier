{
 "cells": [
  {
   "cell_type": "markdown",
   "metadata": {},
   "source": [
    "This notebook is used to train varous PyTorch models."
   ]
  },
  {
   "cell_type": "code",
   "execution_count": 63,
   "metadata": {
    "pycharm": {
     "name": "#%%\n"
    }
   },
   "outputs": [
    {
     "name": "stdout",
     "output_type": "stream",
     "text": [
      "The autoreload extension is already loaded. To reload it, use:\n",
      "  %reload_ext autoreload\n"
     ]
    }
   ],
   "source": [
    "%load_ext autoreload\n",
    "%autoreload 2"
   ]
  },
  {
   "cell_type": "code",
   "execution_count": 64,
   "metadata": {},
   "outputs": [],
   "source": [
    "\"\"\" Import your model here \"\"\"\n",
    "from models.dropoutModel import DropoutModel\n",
    "\"\"\" Choose filename of saved model here \"\"\"\n",
    "\n",
    "#previous_it = '././model_states/'\n",
    "previous_it = None\n",
    "current_it_v = 1\n",
    "filename = \"model_conv4_\""
   ]
  },
  {
   "cell_type": "code",
   "execution_count": 65,
   "metadata": {},
   "outputs": [],
   "source": [
    "import torch\n",
    "import numpy as np\n",
    "import torch.nn as nn\n",
    "import matplotlib.pyplot as plt\n",
    "from torch.utils.data import DataLoader, random_split\n",
    "import torch.nn.functional as F\n",
    "from torchvision.transforms import transforms\n",
    "\n",
    "from image_datasets.imagedataset import ImageDataset"
   ]
  },
  {
   "cell_type": "code",
   "execution_count": 66,
   "metadata": {},
   "outputs": [],
   "source": [
    "device = torch.device(\"cuda\" if torch.cuda.is_available() else \"cpu\")"
   ]
  },
  {
   "cell_type": "markdown",
   "metadata": {},
   "source": [
    "### Hyperparameters"
   ]
  },
  {
   "cell_type": "code",
   "execution_count": 67,
   "metadata": {},
   "outputs": [],
   "source": [
    "num_epochs = 10\n",
    "batch_size = 10\n",
    "\n",
    "learning_rate = 0.001\n",
    "momentum = 0.9"
   ]
  },
  {
   "cell_type": "markdown",
   "metadata": {},
   "source": [
    "### Data"
   ]
  },
  {
   "cell_type": "code",
   "execution_count": 68,
   "metadata": {},
   "outputs": [],
   "source": [
    "norm_transform = transforms.Normalize(\n",
    "    (132.3501, 127.2977, 131.0638),\n",
    "    (55.5031, 62.3274, 64.1869)\n",
    ")"
   ]
  },
  {
   "cell_type": "code",
   "execution_count": 69,
   "metadata": {},
   "outputs": [],
   "source": [
    "dataset = ImageDataset(transform=norm_transform)\n",
    "train_size = int(0.75*len(dataset))\n",
    "test_size  = len(dataset) - train_size\n",
    "train, test = random_split(dataset, [train_size, test_size])\n",
    "\n",
    "train_loader = DataLoader(train, batch_size=batch_size, shuffle=True)\n",
    "test_loader  = DataLoader(test, batch_size=batch_size, shuffle=False)"
   ]
  },
  {
   "cell_type": "markdown",
   "metadata": {},
   "source": [
    "### Loss & optimizer"
   ]
  },
  {
   "cell_type": "code",
   "execution_count": 70,
   "metadata": {},
   "outputs": [],
   "source": [
    "model = DropoutModel().to(device)\n",
    "criterion = nn.CrossEntropyLoss() # Includes softmax\n",
    "optimizer = torch.optim.SGD(model.parameters(), lr=learning_rate, momentum=momentum, weight_decay=1e-5)\n"
   ]
  },
  {
   "cell_type": "code",
   "execution_count": 71,
   "metadata": {
    "pycharm": {
     "name": "#%%\n"
    }
   },
   "outputs": [],
   "source": [
    "if previous_it is not None:\n",
    "    model.load_state_dict(torch.load(previous_it+filename+str(current_it_v-1)+\".pth\"))"
   ]
  },
  {
   "cell_type": "markdown",
   "metadata": {},
   "source": [
    "### Training loop"
   ]
  },
  {
   "cell_type": "code",
   "execution_count": 72,
   "metadata": {},
   "outputs": [
    {
     "name": "stdout",
     "output_type": "stream",
     "text": [
      "Epoch [1/10], Step [500/6525], Loss: 3.3298\n",
      "Epoch [1/10], Step [1000/6525], Loss: 3.1042\n",
      "Epoch [1/10], Step [1500/6525], Loss: 2.6247\n",
      "Epoch [1/10], Step [2000/6525], Loss: 2.0584\n",
      "Epoch [1/10], Step [2500/6525], Loss: 1.6688\n",
      "Epoch [1/10], Step [3000/6525], Loss: 1.0933\n",
      "Epoch [1/10], Step [3500/6525], Loss: 1.4252\n",
      "Epoch [1/10], Step [4000/6525], Loss: 0.5690\n",
      "Epoch [1/10], Step [4500/6525], Loss: 1.2124\n",
      "Epoch [1/10], Step [5000/6525], Loss: 1.4461\n",
      "Epoch [1/10], Step [5500/6525], Loss: 1.0926\n",
      "Epoch [1/10], Step [6000/6525], Loss: 0.0639\n",
      "Epoch [1/10], Step [6500/6525], Loss: 0.4648\n",
      "Epoch [2/10], Step [500/6525], Loss: 0.3235\n",
      "Epoch [2/10], Step [1000/6525], Loss: 0.6626\n",
      "Epoch [2/10], Step [1500/6525], Loss: 0.5987\n",
      "Epoch [2/10], Step [2000/6525], Loss: 0.7844\n",
      "Epoch [2/10], Step [2500/6525], Loss: 0.1494\n",
      "Epoch [2/10], Step [3000/6525], Loss: 0.1381\n",
      "Epoch [2/10], Step [3500/6525], Loss: 0.0816\n",
      "Epoch [2/10], Step [4000/6525], Loss: 0.9748\n",
      "Epoch [2/10], Step [4500/6525], Loss: 0.0106\n",
      "Epoch [2/10], Step [5000/6525], Loss: 0.1053\n",
      "Epoch [2/10], Step [5500/6525], Loss: 0.4424\n",
      "Epoch [2/10], Step [6000/6525], Loss: 0.2106\n",
      "Epoch [2/10], Step [6500/6525], Loss: 0.0255\n",
      "Epoch [3/10], Step [500/6525], Loss: 0.1922\n",
      "Epoch [3/10], Step [1000/6525], Loss: 0.1598\n",
      "Epoch [3/10], Step [1500/6525], Loss: 0.0248\n",
      "Epoch [3/10], Step [2000/6525], Loss: 0.5025\n",
      "Epoch [3/10], Step [2500/6525], Loss: 0.0275\n",
      "Epoch [3/10], Step [3000/6525], Loss: 0.3346\n",
      "Epoch [3/10], Step [3500/6525], Loss: 0.0574\n",
      "Epoch [3/10], Step [4000/6525], Loss: 0.0831\n",
      "Epoch [3/10], Step [4500/6525], Loss: 0.0036\n",
      "Epoch [3/10], Step [5000/6525], Loss: 0.1237\n",
      "Epoch [3/10], Step [5500/6525], Loss: 0.7249\n",
      "Epoch [3/10], Step [6000/6525], Loss: 0.1540\n",
      "Epoch [3/10], Step [6500/6525], Loss: 0.0184\n",
      "Epoch [4/10], Step [500/6525], Loss: 0.6900\n",
      "Epoch [4/10], Step [1000/6525], Loss: 0.0025\n",
      "Epoch [4/10], Step [1500/6525], Loss: 0.0509\n",
      "Epoch [4/10], Step [2000/6525], Loss: 0.1993\n",
      "Epoch [4/10], Step [2500/6525], Loss: 0.0300\n",
      "Epoch [4/10], Step [3000/6525], Loss: 0.0619\n",
      "Epoch [4/10], Step [3500/6525], Loss: 0.0810\n",
      "Epoch [4/10], Step [4000/6525], Loss: 0.0105\n",
      "Epoch [4/10], Step [4500/6525], Loss: 0.0060\n",
      "Epoch [4/10], Step [5000/6525], Loss: 0.0007\n",
      "Epoch [4/10], Step [5500/6525], Loss: 0.0002\n",
      "Epoch [4/10], Step [6000/6525], Loss: 0.0011\n",
      "Epoch [4/10], Step [6500/6525], Loss: 0.0002\n",
      "Epoch [5/10], Step [500/6525], Loss: 0.2689\n",
      "Epoch [5/10], Step [1000/6525], Loss: 0.0740\n",
      "Epoch [5/10], Step [1500/6525], Loss: 0.0073\n",
      "Epoch [5/10], Step [2000/6525], Loss: 0.0107\n",
      "Epoch [5/10], Step [2500/6525], Loss: 0.0478\n",
      "Epoch [5/10], Step [3000/6525], Loss: 0.0465\n",
      "Epoch [5/10], Step [3500/6525], Loss: 0.0011\n",
      "Epoch [5/10], Step [4000/6525], Loss: 0.0071\n",
      "Epoch [5/10], Step [4500/6525], Loss: 0.0732\n",
      "Epoch [5/10], Step [5000/6525], Loss: 0.0982\n",
      "Epoch [5/10], Step [5500/6525], Loss: 0.0030\n",
      "Epoch [5/10], Step [6000/6525], Loss: 0.2409\n",
      "Epoch [5/10], Step [6500/6525], Loss: 0.0527\n",
      "Epoch [6/10], Step [500/6525], Loss: 0.0092\n",
      "Epoch [6/10], Step [1000/6525], Loss: 0.1159\n",
      "Epoch [6/10], Step [1500/6525], Loss: 0.1572\n",
      "Epoch [6/10], Step [2000/6525], Loss: 0.0314\n",
      "Epoch [6/10], Step [2500/6525], Loss: 0.0211\n",
      "Epoch [6/10], Step [3000/6525], Loss: 0.0027\n",
      "Epoch [6/10], Step [3500/6525], Loss: 0.0175\n",
      "Epoch [6/10], Step [4000/6525], Loss: 0.0000\n",
      "Epoch [6/10], Step [4500/6525], Loss: 0.0082\n",
      "Epoch [6/10], Step [5000/6525], Loss: 0.0354\n",
      "Epoch [6/10], Step [5500/6525], Loss: 0.0219\n",
      "Epoch [6/10], Step [6000/6525], Loss: 0.0364\n",
      "Epoch [6/10], Step [6500/6525], Loss: 0.0030\n",
      "Epoch [7/10], Step [500/6525], Loss: 0.0082\n",
      "Epoch [7/10], Step [1000/6525], Loss: 0.0091\n",
      "Epoch [7/10], Step [1500/6525], Loss: 0.0279\n",
      "Epoch [7/10], Step [2000/6525], Loss: 0.0470\n",
      "Epoch [7/10], Step [2500/6525], Loss: 0.0012\n",
      "Epoch [7/10], Step [3000/6525], Loss: 0.0001\n",
      "Epoch [7/10], Step [3500/6525], Loss: 0.1946\n",
      "Epoch [7/10], Step [4000/6525], Loss: 0.0055\n",
      "Epoch [7/10], Step [4500/6525], Loss: 0.0241\n",
      "Epoch [7/10], Step [5000/6525], Loss: 0.0325\n",
      "Epoch [7/10], Step [5500/6525], Loss: 0.0120\n",
      "Epoch [7/10], Step [6000/6525], Loss: 0.1549\n",
      "Epoch [7/10], Step [6500/6525], Loss: 0.0299\n",
      "Epoch [8/10], Step [500/6525], Loss: 0.0000\n",
      "Epoch [8/10], Step [1000/6525], Loss: 0.6110\n",
      "Epoch [8/10], Step [1500/6525], Loss: 0.0022\n",
      "Epoch [8/10], Step [2000/6525], Loss: 0.0000\n",
      "Epoch [8/10], Step [2500/6525], Loss: 0.0005\n",
      "Epoch [8/10], Step [3000/6525], Loss: 0.0001\n",
      "Epoch [8/10], Step [3500/6525], Loss: 0.0001\n",
      "Epoch [8/10], Step [4000/6525], Loss: 0.1575\n",
      "Epoch [8/10], Step [4500/6525], Loss: 0.0645\n",
      "Epoch [8/10], Step [5000/6525], Loss: 0.0003\n",
      "Epoch [8/10], Step [5500/6525], Loss: 0.0023\n",
      "Epoch [8/10], Step [6000/6525], Loss: 0.0004\n",
      "Epoch [8/10], Step [6500/6525], Loss: 0.0056\n",
      "Epoch [9/10], Step [500/6525], Loss: 0.0011\n",
      "Epoch [9/10], Step [1000/6525], Loss: 0.0165\n",
      "Epoch [9/10], Step [1500/6525], Loss: 0.0021\n",
      "Epoch [9/10], Step [2000/6525], Loss: 0.3359\n",
      "Epoch [9/10], Step [2500/6525], Loss: 0.0000\n",
      "Epoch [9/10], Step [3000/6525], Loss: 0.0106\n",
      "Epoch [9/10], Step [3500/6525], Loss: 0.0000\n",
      "Epoch [9/10], Step [4000/6525], Loss: 0.0016\n",
      "Epoch [9/10], Step [4500/6525], Loss: 0.0024\n",
      "Epoch [9/10], Step [5000/6525], Loss: 0.0033\n",
      "Epoch [9/10], Step [5500/6525], Loss: 0.0002\n",
      "Epoch [9/10], Step [6000/6525], Loss: 0.0000\n",
      "Epoch [9/10], Step [6500/6525], Loss: 0.0374\n",
      "Epoch [10/10], Step [500/6525], Loss: 0.1237\n",
      "Epoch [10/10], Step [1000/6525], Loss: 0.1707\n",
      "Epoch [10/10], Step [1500/6525], Loss: 0.0011\n",
      "Epoch [10/10], Step [2000/6525], Loss: 0.0003\n",
      "Epoch [10/10], Step [2500/6525], Loss: 0.0754\n",
      "Epoch [10/10], Step [3000/6525], Loss: 0.0026\n",
      "Epoch [10/10], Step [3500/6525], Loss: 0.0003\n",
      "Epoch [10/10], Step [4000/6525], Loss: 0.0892\n",
      "Epoch [10/10], Step [4500/6525], Loss: 0.0558\n",
      "Epoch [10/10], Step [5000/6525], Loss: 0.0004\n",
      "Epoch [10/10], Step [5500/6525], Loss: 0.0000\n",
      "Epoch [10/10], Step [6000/6525], Loss: 0.0013\n",
      "Epoch [10/10], Step [6500/6525], Loss: 0.0001\n"
     ]
    }
   ],
   "source": [
    "n_total_steps = len(train_loader)\n",
    "for epoch in range(num_epochs):\n",
    "    for i, (images, labels) in enumerate(train_loader):\n",
    "        images = images.to(device)\n",
    "        labels = labels.to(device)\n",
    "\n",
    "        # Forward\n",
    "        outputs = model(images)\n",
    "        #print(outputs)\n",
    "        loss = criterion(outputs, labels)\n",
    "\n",
    "        # Backward:\n",
    "        optimizer.zero_grad()\n",
    "        loss.backward()\n",
    "        optimizer.step()\n",
    "\n",
    "        if (i+1) % 500 == 0:\n",
    "            print(f\"Epoch [{epoch+1}/{num_epochs}], Step [{i+1}/{n_total_steps}], Loss: {loss.item():.4f}\")"
   ]
  },
  {
   "cell_type": "markdown",
   "metadata": {},
   "source": [
    "### Saving\n",
    "\n",
    "Change the name of the saved file!"
   ]
  },
  {
   "cell_type": "code",
   "execution_count": 73,
   "metadata": {},
   "outputs": [],
   "source": [
    "torch.save(model.state_dict(), \"./model_states/\" + filename+str(current_it_v)+\".pth\")"
   ]
  },
  {
   "cell_type": "markdown",
   "metadata": {},
   "source": [
    "### Validation"
   ]
  },
  {
   "cell_type": "code",
   "execution_count": 74,
   "metadata": {},
   "outputs": [],
   "source": [
    "with torch.no_grad(): \n",
    "\n",
    "    labs = np.empty(0, dtype=object) # List for all labels and predictions in test set\n",
    "    pred = np.empty(0, dtype=object)\n",
    "    for (images, labels) in test_loader:\n",
    "        images = images.float().to(device)\n",
    "        labels = labels.to(device)\n",
    "\n",
    "        outputs = model(images)\n",
    "        _, predicted = torch.max(outputs, 1)     # Retrieving index of maximum output\n",
    "        labs = np.append(labs, np.array(labels.cpu()))\n",
    "        pred = np.append(pred, np.array(predicted.cpu()))"
   ]
  },
  {
   "cell_type": "code",
   "execution_count": 75,
   "metadata": {},
   "outputs": [
    {
     "name": "stdout",
     "output_type": "stream",
     "text": [
      "Accuracy: 0.991\n"
     ]
    }
   ],
   "source": [
    "# Total accuracy\n",
    "accuracy = np.round((labs == pred).mean(), 3)\n",
    "\n",
    "# In-class accuracy:\n",
    "num_classes = 29\n",
    "class_accuracy = np.zeros(num_classes)\n",
    "for i in range(num_classes):\n",
    "    class_ind = (labs == i) # Indices of class i in labs and pred\n",
    "    class_accuracy[i] = np.mean(labs[class_ind] == pred[class_ind])\n",
    "\n",
    "print(f\"Accuracy: {accuracy}\")"
   ]
  },
  {
   "cell_type": "code",
   "execution_count": 76,
   "metadata": {},
   "outputs": [
    {
     "name": "stderr",
     "output_type": "stream",
     "text": [
      "C:\\Users\\David\\AppData\\Local\\Temp\\ipykernel_32304\\3519544701.py:1: MatplotlibDeprecationWarning: The seaborn styles shipped by Matplotlib are deprecated since 3.6, as they no longer correspond to the styles shipped by seaborn. However, they will remain available as 'seaborn-v0_8-<style>'. Alternatively, directly use the seaborn API instead.\n",
      "  plt.style.use(\"seaborn\");\n"
     ]
    },
    {
     "data": {
      "text/plain": "<matplotlib.legend.Legend at 0x20068f7ae50>"
     },
     "execution_count": 76,
     "metadata": {},
     "output_type": "execute_result"
    },
    {
     "data": {
      "text/plain": "<Figure size 800x550 with 1 Axes>",
      "image/png": "[encoded data removed]"
     },
     "metadata": {},
     "output_type": "display_data"
    }
   ],
   "source": [
    "plt.style.use(\"seaborn\");\n",
    "plt.ylim([0.75, 1])\n",
    "plt.bar(range(num_classes), class_accuracy, label=\"Class prediction accuracy\")\n",
    "plt.hlines(accuracy, 0, num_classes, colors=\"red\", linestyles=\"--\", label=\"Average (total) accuracy\")\n",
    "plt.xlabel(\"Class\")\n",
    "plt.ylabel(\"Accuracy\")\n",
    "plt.legend()"
   ]
  }
 ],
 "metadata": {
  "kernelspec": {
   "display_name": "Python 3 (ipykernel)",
   "language": "python",
   "name": "python3"
  },
  "language_info": {
   "codemirror_mode": {
    "name": "ipython",
    "version": 3
   },
   "file_extension": ".py",
   "mimetype": "text/x-python",
   "name": "python",
   "nbconvert_exporter": "python",
   "pygments_lexer": "ipython3",
   "version": "3.9.5"
  },
  "vscode": {
   "interpreter": {
    "hash": "8c079673354916119d409bcaac7691efc7682d3231fae5b9ae22ac36ebe64032"
   }
  }
 },
 "nbformat": 4,
 "nbformat_minor": 2
}